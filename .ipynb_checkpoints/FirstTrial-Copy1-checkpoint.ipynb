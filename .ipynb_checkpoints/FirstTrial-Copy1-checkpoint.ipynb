{
 "cells": [
  {
   "cell_type": "code",
   "execution_count": 1,
   "id": "4201f1c7",
   "metadata": {
    "scrolled": false
   },
   "outputs": [
    {
     "name": "stdout",
     "output_type": "stream",
     "text": [
      "C:\\Users\\alcec\\1test_monkey\\motionmapperpyOther\n",
      "running install\n",
      "running bdist_egg\n",
      "running egg_info\n",
      "writing motionmapperpy.egg-info\\PKG-INFO\n",
      "writing dependency_links to motionmapperpy.egg-info\\dependency_links.txt\n",
      "writing requirements to motionmapperpy.egg-info\\requires.txt\n",
      "writing top-level names to motionmapperpy.egg-info\\top_level.txt\n",
      "reading manifest file 'motionmapperpy.egg-info\\SOURCES.txt'\n",
      "adding license file 'LICENSE'\n",
      "writing manifest file 'motionmapperpy.egg-info\\SOURCES.txt'\n",
      "installing library code to build\\bdist.win-amd64\\egg\n",
      "running install_lib\n",
      "running build_py\n",
      "creating build\\bdist.win-amd64\\egg\n",
      "creating build\\bdist.win-amd64\\egg\\motionmapperpy\n",
      "copying build\\lib\\motionmapperpy\\mmutils.py -> build\\bdist.win-amd64\\egg\\motionmapperpy\n",
      "copying build\\lib\\motionmapperpy\\motionmapper.py -> build\\bdist.win-amd64\\egg\\motionmapperpy\n",
      "copying build\\lib\\motionmapperpy\\setrunparameters.py -> build\\bdist.win-amd64\\egg\\motionmapperpy\n",
      "copying build\\lib\\motionmapperpy\\wavelet.py -> build\\bdist.win-amd64\\egg\\motionmapperpy\n",
      "copying build\\lib\\motionmapperpy\\wshed.py -> build\\bdist.win-amd64\\egg\\motionmapperpy\n",
      "copying build\\lib\\motionmapperpy\\__init__.py -> build\\bdist.win-amd64\\egg\\motionmapperpy\n",
      "byte-compiling build\\bdist.win-amd64\\egg\\motionmapperpy\\mmutils.py to mmutils.cpython-39.pyc\n",
      "byte-compiling build\\bdist.win-amd64\\egg\\motionmapperpy\\motionmapper.py to motionmapper.cpython-39.pyc\n",
      "byte-compiling build\\bdist.win-amd64\\egg\\motionmapperpy\\setrunparameters.py to setrunparameters.cpython-39.pyc\n",
      "byte-compiling build\\bdist.win-amd64\\egg\\motionmapperpy\\wavelet.py to wavelet.cpython-39.pyc\n",
      "byte-compiling build\\bdist.win-amd64\\egg\\motionmapperpy\\wshed.py to wshed.cpython-39.pyc\n",
      "byte-compiling build\\bdist.win-amd64\\egg\\motionmapperpy\\__init__.py to __init__.cpython-39.pyc\n",
      "creating build\\bdist.win-amd64\\egg\\EGG-INFO\n",
      "copying motionmapperpy.egg-info\\PKG-INFO -> build\\bdist.win-amd64\\egg\\EGG-INFO\n",
      "copying motionmapperpy.egg-info\\SOURCES.txt -> build\\bdist.win-amd64\\egg\\EGG-INFO\n",
      "copying motionmapperpy.egg-info\\dependency_links.txt -> build\\bdist.win-amd64\\egg\\EGG-INFO\n",
      "copying motionmapperpy.egg-info\\requires.txt -> build\\bdist.win-amd64\\egg\\EGG-INFO\n",
      "copying motionmapperpy.egg-info\\top_level.txt -> build\\bdist.win-amd64\\egg\\EGG-INFO\n",
      "creating 'dist\\motionmapperpy-1.0-py3.9.egg' and adding 'build\\bdist.win-amd64\\egg' to it\n",
      "removing 'build\\bdist.win-amd64\\egg' (and everything under it)\n",
      "Processing motionmapperpy-1.0-py3.9.egg\n",
      "Removing c:\\users\\alcec\\anaconda3\\lib\\site-packages\\motionmapperpy-1.0-py3.9.egg\n",
      "C:\\Users\\alcec\\1test_monkey\n"
     ]
    },
    {
     "name": "stderr",
     "output_type": "stream",
     "text": [
      "C:\\Users\\alcec\\anaconda3\\lib\\site-packages\\setuptools\\command\\install.py:34: SetuptoolsDeprecationWarning: setup.py install is deprecated. Use build and pip and other standards-based tools.\n",
      "  warnings.warn(\n",
      "C:\\Users\\alcec\\anaconda3\\lib\\site-packages\\setuptools\\command\\easy_install.py:144: EasyInstallDeprecationWarning: easy_install command is deprecated. Use build and pip and other standards-based tools.\n",
      "  warnings.warn(\n",
      "zip_safe flag not set; analyzing archive contents...\n",
      "error: [WinError 32] The process cannot access the file because it is being used by another process: 'c:\\\\users\\\\alcec\\\\anaconda3\\\\lib\\\\site-packages\\\\motionmapperpy-1.0-py3.9.egg'\n"
     ]
    }
   ],
   "source": [
    "%cd motionmapperpyOther\n",
    "\n",
    "!python setup.py install\n",
    "\n",
    "%cd .."
   ]
  },
  {
   "cell_type": "code",
   "execution_count": 2,
   "id": "946d5f5b",
   "metadata": {
    "scrolled": true
   },
   "outputs": [],
   "source": [
    "%load_ext autoreload\n",
    "%autoreload 2"
   ]
  },
  {
   "cell_type": "code",
   "execution_count": 3,
   "id": "dcc9017d",
   "metadata": {
    "scrolled": true
   },
   "outputs": [],
   "source": [
    "import pandas as pd\n",
    "import numpy as np\n",
    "import pickle \n",
    "\n",
    "import glob, os, sys\n",
    "\n",
    "import time, copy\n",
    "from datetime import datetime\n",
    "import hdf5storage\n",
    "\n",
    "import matplotlib.pyplot as plt\n",
    "from matplotlib.animation import FuncAnimation\n",
    "\n",
    "# from moviepy.editor import VideoClip, VideoFileClip\n",
    "# from moviepy.video.io.bindings import mplfig_to_npimage\n",
    "\n",
    "from tqdm import tqdm \n",
    "\n",
    "from scipy.ndimage import median_filter\n",
    "\n",
    "from matplotlib import rc\n",
    "rc('animation', html='jshtml')\n",
    "\n",
    "from pythonlib.dataset.dataset import Dataset\n",
    "from pythonlib.dataset.dataset_preprocess.general import preprocessDat\n",
    "\n"
   ]
  },
  {
   "cell_type": "code",
   "execution_count": 4,
   "id": "e346028e",
   "metadata": {},
   "outputs": [
    {
     "name": "stdout",
     "output_type": "stream",
     "text": [
      "Skipping, path already exists : content/trial1_mmpy\n",
      "Skipping, path already exists : content/trial1_mmpy/Projections\n",
      "Skipping, path already exists : content/trial1_mmpy/TSNE_Projections\n",
      "Skipping, path already exists : content/trial1_mmpy/TSNE\n",
      "Skipping, path already exists : content/trial1_mmpy/UMAP\n"
     ]
    }
   ],
   "source": [
    "import motionmapperpy as mmpy\n",
    "\n",
    "projectPath = 'content/trial1_mmpy'\n",
    "\n",
    "# This creates a project directory structure which will be used to store all motionmappery pipeline\n",
    "# related data in one place.\n",
    "\n",
    "mmpy.createProjectDirectory(projectPath)"
   ]
  },
  {
   "cell_type": "code",
   "execution_count": null,
   "id": "99ca87bb",
   "metadata": {},
   "outputs": [],
   "source": [
    "with open('data_032921/Pancho-arc2-formodeling-210329_014648/dat.pkl', 'rb') as f:\n",
    "    content = pickle.load(f)\n",
    "content"
   ]
  },
  {
   "cell_type": "code",
   "execution_count": null,
   "id": "a2145b1b",
   "metadata": {
    "scrolled": false
   },
   "outputs": [],
   "source": [
    "content.head()"
   ]
  },
  {
   "cell_type": "code",
   "execution_count": 5,
   "id": "c260af67",
   "metadata": {},
   "outputs": [],
   "source": [
    "animal = \"Red\""
   ]
  },
  {
   "cell_type": "code",
   "execution_count": 7,
   "id": "b884b542",
   "metadata": {
    "scrolled": true
   },
   "outputs": [
    {
     "name": "stdout",
     "output_type": "stream",
     "text": [
      "----------------\n",
      "Currently loading: data_032921/Red-lines5-formodeling-210329_005719\n",
      "Loaded metadat:\n",
      "{'sketchpad_edges': array([[-327.2, -327.2],\n",
      "       [ 327.2,  429.6]])}\n",
      "----------------\n",
      "Currently loading: data_032921/Red-arc2-formodeling-210329_005550\n",
      "Loaded metadat:\n",
      "{'sketchpad_edges': array([[-327.2, -327.2],\n",
      "       [ 327.2,  429.6]])}\n",
      "----------------\n",
      "Currently loading: data_032921/Red-shapes3-formodeling-210329_005200\n",
      "Loaded metadat:\n",
      "{'sketchpad_edges': array([[-311.84, -224.8 ],\n",
      "       [ 311.84,  429.6 ]])}\n",
      "----------------\n",
      "Currently loading: data_032921/Red-figures89-formodeling-210329_005443\n",
      "Loaded metadat:\n",
      "{'sketchpad_edges': array([[-311.84, -224.8 ],\n",
      "       [ 311.84,  429.6 ]])}\n",
      "----\n",
      "Resetting index\n",
      "=== CLEANING UP self.Dat ===== \n",
      "Deleted unused columns from self.Dat\n",
      "applying monkey train test names\n",
      "resetting index\n"
     ]
    },
    {
     "ename": "KeyError",
     "evalue": "'datetime'",
     "output_type": "error",
     "traceback": [
      "\u001b[1;31m---------------------------------------------------------------------------\u001b[0m",
      "\u001b[1;31mKeyError\u001b[0m                                  Traceback (most recent call last)",
      "File \u001b[1;32m~\\anaconda3\\lib\\site-packages\\pandas\\core\\indexes\\base.py:3621\u001b[0m, in \u001b[0;36mIndex.get_loc\u001b[1;34m(self, key, method, tolerance)\u001b[0m\n\u001b[0;32m   3620\u001b[0m \u001b[38;5;28;01mtry\u001b[39;00m:\n\u001b[1;32m-> 3621\u001b[0m     \u001b[38;5;28;01mreturn\u001b[39;00m \u001b[38;5;28;43mself\u001b[39;49m\u001b[38;5;241;43m.\u001b[39;49m\u001b[43m_engine\u001b[49m\u001b[38;5;241;43m.\u001b[39;49m\u001b[43mget_loc\u001b[49m\u001b[43m(\u001b[49m\u001b[43mcasted_key\u001b[49m\u001b[43m)\u001b[49m\n\u001b[0;32m   3622\u001b[0m \u001b[38;5;28;01mexcept\u001b[39;00m \u001b[38;5;167;01mKeyError\u001b[39;00m \u001b[38;5;28;01mas\u001b[39;00m err:\n",
      "File \u001b[1;32m~\\anaconda3\\lib\\site-packages\\pandas\\_libs\\index.pyx:136\u001b[0m, in \u001b[0;36mpandas._libs.index.IndexEngine.get_loc\u001b[1;34m()\u001b[0m\n",
      "File \u001b[1;32m~\\anaconda3\\lib\\site-packages\\pandas\\_libs\\index.pyx:163\u001b[0m, in \u001b[0;36mpandas._libs.index.IndexEngine.get_loc\u001b[1;34m()\u001b[0m\n",
      "File \u001b[1;32mpandas\\_libs\\hashtable_class_helper.pxi:5198\u001b[0m, in \u001b[0;36mpandas._libs.hashtable.PyObjectHashTable.get_item\u001b[1;34m()\u001b[0m\n",
      "File \u001b[1;32mpandas\\_libs\\hashtable_class_helper.pxi:5206\u001b[0m, in \u001b[0;36mpandas._libs.hashtable.PyObjectHashTable.get_item\u001b[1;34m()\u001b[0m\n",
      "\u001b[1;31mKeyError\u001b[0m: 'datetime'",
      "\nThe above exception was the direct cause of the following exception:\n",
      "\u001b[1;31mKeyError\u001b[0m                                  Traceback (most recent call last)",
      "Input \u001b[1;32mIn [7]\u001b[0m, in \u001b[0;36m<cell line: 17>\u001b[1;34m()\u001b[0m\n\u001b[0;32m      9\u001b[0m     path_list \u001b[38;5;241m=\u001b[39m [\n\u001b[0;32m     10\u001b[0m         \u001b[38;5;124m\"\u001b[39m\u001b[38;5;124mdata_032921/Pancho-lines5-formodeling-210329_014835\u001b[39m\u001b[38;5;124m\"\u001b[39m,\n\u001b[0;32m     11\u001b[0m         \u001b[38;5;124m\"\u001b[39m\u001b[38;5;124mdata_032921/Pancho-arc2-formodeling-210329_014648\u001b[39m\u001b[38;5;124m\"\u001b[39m,\n\u001b[0;32m     12\u001b[0m         \u001b[38;5;124m\"\u001b[39m\u001b[38;5;124mdata_032921/Pancho-shapes3-formodeling-210329_002448\u001b[39m\u001b[38;5;124m\"\u001b[39m,\n\u001b[0;32m     13\u001b[0m         \u001b[38;5;124m\"\u001b[39m\u001b[38;5;124mdata_032921/Pancho-figures89-formodeling-210329_000418\u001b[39m\u001b[38;5;124m\"\u001b[39m\n\u001b[0;32m     14\u001b[0m     ]\n\u001b[0;32m     15\u001b[0m append_list \u001b[38;5;241m=\u001b[39m \u001b[38;5;28;01mNone\u001b[39;00m\n\u001b[1;32m---> 17\u001b[0m D \u001b[38;5;241m=\u001b[39m \u001b[43mDataset\u001b[49m\u001b[43m(\u001b[49m\u001b[43mpath_list\u001b[49m\u001b[43m,\u001b[49m\u001b[43m \u001b[49m\u001b[43mappend_list\u001b[49m\u001b[43m)\u001b[49m\n",
      "File \u001b[1;32m~\\1test_monkey\\pythonlib\\dataset\\dataset.py:45\u001b[0m, in \u001b[0;36mDataset.__init__\u001b[1;34m(self, inputs, append_list, reloading_saved_state)\u001b[0m\n\u001b[0;32m     42\u001b[0m \u001b[38;5;28mself\u001b[39m\u001b[38;5;241m.\u001b[39m_reloading_saved_state \u001b[38;5;241m=\u001b[39m reloading_saved_state\n\u001b[0;32m     44\u001b[0m \u001b[38;5;28;01mif\u001b[39;00m \u001b[38;5;28mlen\u001b[39m(inputs)\u001b[38;5;241m>\u001b[39m\u001b[38;5;241m0\u001b[39m:\n\u001b[1;32m---> 45\u001b[0m     \u001b[38;5;28;43mself\u001b[39;49m\u001b[38;5;241;43m.\u001b[39;49m\u001b[43m_main_loader\u001b[49m\u001b[43m(\u001b[49m\u001b[43minputs\u001b[49m\u001b[43m,\u001b[49m\u001b[43m \u001b[49m\u001b[43mappend_list\u001b[49m\u001b[43m)\u001b[49m\n\u001b[0;32m     46\u001b[0m \u001b[38;5;66;03m# else:\u001b[39;00m\n\u001b[0;32m     47\u001b[0m \u001b[38;5;66;03m#     print(\"Did not load data!!!\")\u001b[39;00m\n\u001b[0;32m     50\u001b[0m \u001b[38;5;28mself\u001b[39m\u001b[38;5;241m.\u001b[39m_possible_data \u001b[38;5;241m=\u001b[39m [\u001b[38;5;124m\"\u001b[39m\u001b[38;5;124mDat\u001b[39m\u001b[38;5;124m\"\u001b[39m, \u001b[38;5;124m\"\u001b[39m\u001b[38;5;124mBPL\u001b[39m\u001b[38;5;124m\"\u001b[39m, \u001b[38;5;124m\"\u001b[39m\u001b[38;5;124mSF\u001b[39m\u001b[38;5;124m\"\u001b[39m]\n",
      "File \u001b[1;32m~\\1test_monkey\\pythonlib\\dataset\\dataset.py:139\u001b[0m, in \u001b[0;36mDataset._main_loader\u001b[1;34m(self, inputs, append_list, animal_expt_rule)\u001b[0m\n\u001b[0;32m    137\u001b[0m     \u001b[38;5;28mself\u001b[39m\u001b[38;5;241m.\u001b[39m_store_dataframes(inputs, append_list)\n\u001b[0;32m    138\u001b[0m \u001b[38;5;28;01mif\u001b[39;00m \u001b[38;5;129;01mnot\u001b[39;00m \u001b[38;5;28mself\u001b[39m\u001b[38;5;241m.\u001b[39m_reloading_saved_state:\n\u001b[1;32m--> 139\u001b[0m     \u001b[38;5;28;43mself\u001b[39;49m\u001b[38;5;241;43m.\u001b[39;49m\u001b[43m_cleanup\u001b[49m\u001b[43m(\u001b[49m\u001b[43m)\u001b[49m\n\u001b[0;32m    140\u001b[0m     \u001b[38;5;28mself\u001b[39m\u001b[38;5;241m.\u001b[39m_check_consistency()\n",
      "File \u001b[1;32m~\\1test_monkey\\pythonlib\\dataset\\dataset.py:769\u001b[0m, in \u001b[0;36mDataset._cleanup\u001b[1;34m(self, remove_dot_strokes)\u001b[0m\n\u001b[0;32m    766\u001b[0m \u001b[38;5;28;01massert\u001b[39;00m \u001b[38;5;28mlen\u001b[39m(\u001b[38;5;28mself\u001b[39m\u001b[38;5;241m.\u001b[39mDat[\u001b[38;5;124m\"\u001b[39m\u001b[38;5;124mtrialcode\u001b[39m\u001b[38;5;124m\"\u001b[39m])\u001b[38;5;241m==\u001b[39m\u001b[38;5;28mlen\u001b[39m(\u001b[38;5;28mself\u001b[39m\u001b[38;5;241m.\u001b[39mDat[\u001b[38;5;124m\"\u001b[39m\u001b[38;5;124mtrialcode\u001b[39m\u001b[38;5;124m\"\u001b[39m]\u001b[38;5;241m.\u001b[39munique()\u001b[38;5;241m.\u001b[39mtolist()), \u001b[38;5;124m\"\u001b[39m\u001b[38;5;124mnot sure why\u001b[39m\u001b[38;5;124m\"\u001b[39m\n\u001b[0;32m    768\u001b[0m \u001b[38;5;66;03m### reset tvals to the new earliest data\u001b[39;00m\n\u001b[1;32m--> 769\u001b[0m \u001b[38;5;28;43mself\u001b[39;49m\u001b[38;5;241;43m.\u001b[39;49m\u001b[43m_get_standard_time\u001b[49m\u001b[43m(\u001b[49m\u001b[43m)\u001b[49m\n\u001b[0;32m    771\u001b[0m \u001b[38;5;66;03m# Sort so is in increasing by date\u001b[39;00m\n\u001b[0;32m    772\u001b[0m \u001b[38;5;28mself\u001b[39m\u001b[38;5;241m.\u001b[39mDat \u001b[38;5;241m=\u001b[39m \u001b[38;5;28mself\u001b[39m\u001b[38;5;241m.\u001b[39mDat\u001b[38;5;241m.\u001b[39msort_values(\u001b[38;5;124m\"\u001b[39m\u001b[38;5;124mtvalfake\u001b[39m\u001b[38;5;124m\"\u001b[39m, axis\u001b[38;5;241m=\u001b[39m\u001b[38;5;241m0\u001b[39m)\u001b[38;5;241m.\u001b[39mreset_index(drop\u001b[38;5;241m=\u001b[39m\u001b[38;5;28;01mTrue\u001b[39;00m)\n",
      "File \u001b[1;32m~\\1test_monkey\\pythonlib\\dataset\\dataset.py:903\u001b[0m, in \u001b[0;36mDataset._get_standard_time\u001b[1;34m(self, first_date)\u001b[0m\n\u001b[0;32m    901\u001b[0m     \u001b[38;5;66;03m# return standardizeTime(dt, first_date, daystart=0.417, dayend=0.792)\u001b[39;00m\n\u001b[0;32m    902\u001b[0m     \u001b[38;5;28;01mreturn\u001b[39;00m standardizeTime(dt, first_date)\n\u001b[1;32m--> 903\u001b[0m \u001b[38;5;28mself\u001b[39m\u001b[38;5;241m.\u001b[39mDat\u001b[38;5;241m=\u001b[39m \u001b[43mapplyFunctionToAllRows\u001b[49m\u001b[43m(\u001b[49m\u001b[38;5;28;43mself\u001b[39;49m\u001b[38;5;241;43m.\u001b[39;49m\u001b[43mDat\u001b[49m\u001b[43m,\u001b[49m\u001b[43m \u001b[49m\u001b[43mF\u001b[49m\u001b[43m,\u001b[49m\u001b[43m \u001b[49m\u001b[38;5;124;43m\"\u001b[39;49m\u001b[38;5;124;43mtvalfake\u001b[39;49m\u001b[38;5;124;43m\"\u001b[39;49m\u001b[43m)\u001b[49m\n\u001b[0;32m    905\u001b[0m \u001b[38;5;66;03m# tvalday is just the day (plus 0.6) useful for plotting\u001b[39;00m\n\u001b[0;32m    906\u001b[0m \u001b[38;5;28;01mdef\u001b[39;00m \u001b[38;5;21mF\u001b[39m(x):\n",
      "File \u001b[1;32m~\\1test_monkey\\pythonlib\\tools\\pandastools.py:164\u001b[0m, in \u001b[0;36mapplyFunctionToAllRows\u001b[1;34m(df, F, newcolname, replace, just_return_newcol)\u001b[0m\n\u001b[0;32m    149\u001b[0m \u001b[38;5;66;03m# To debug:\u001b[39;00m\n\u001b[0;32m    150\u001b[0m \u001b[38;5;66;03m# def F(x):\u001b[39;00m\n\u001b[0;32m    151\u001b[0m \u001b[38;5;66;03m#     return x[\"trial\"]\u001b[39;00m\n\u001b[1;32m   (...)\u001b[0m\n\u001b[0;32m    161\u001b[0m \n\u001b[0;32m    162\u001b[0m \u001b[38;5;66;03m# GET NEW SERIES\u001b[39;00m\n\u001b[0;32m    163\u001b[0m \u001b[38;5;28;01massert\u001b[39;00m \u001b[38;5;28mlen\u001b[39m(df)\u001b[38;5;241m>\u001b[39m\u001b[38;5;241m0\u001b[39m, \u001b[38;5;124m\"\u001b[39m\u001b[38;5;124mempty dataframe\u001b[39m\u001b[38;5;124m\"\u001b[39m\n\u001b[1;32m--> 164\u001b[0m dfnewcol \u001b[38;5;241m=\u001b[39m \u001b[43mdf\u001b[49m\u001b[38;5;241;43m.\u001b[39;49m\u001b[43mapply\u001b[49m\u001b[43m(\u001b[49m\u001b[43mF\u001b[49m\u001b[43m,\u001b[49m\u001b[43m \u001b[49m\u001b[43maxis\u001b[49m\u001b[38;5;241;43m=\u001b[39;49m\u001b[38;5;241;43m1\u001b[39;49m\u001b[43m)\u001b[49m\u001b[38;5;241m.\u001b[39mrename(newcolname) \u001b[38;5;66;03m# rename, since series must be named.\u001b[39;00m\n\u001b[0;32m    166\u001b[0m \u001b[38;5;66;03m# DO MERGE\u001b[39;00m\n\u001b[0;32m    167\u001b[0m \u001b[38;5;66;03m# Make copy, since must delete if want to replace col\u001b[39;00m\n\u001b[0;32m    168\u001b[0m dfthis \u001b[38;5;241m=\u001b[39m df\u001b[38;5;241m.\u001b[39mcopy()\n",
      "File \u001b[1;32m~\\anaconda3\\lib\\site-packages\\pandas\\core\\frame.py:8839\u001b[0m, in \u001b[0;36mDataFrame.apply\u001b[1;34m(self, func, axis, raw, result_type, args, **kwargs)\u001b[0m\n\u001b[0;32m   8828\u001b[0m \u001b[38;5;28;01mfrom\u001b[39;00m \u001b[38;5;21;01mpandas\u001b[39;00m\u001b[38;5;21;01m.\u001b[39;00m\u001b[38;5;21;01mcore\u001b[39;00m\u001b[38;5;21;01m.\u001b[39;00m\u001b[38;5;21;01mapply\u001b[39;00m \u001b[38;5;28;01mimport\u001b[39;00m frame_apply\n\u001b[0;32m   8830\u001b[0m op \u001b[38;5;241m=\u001b[39m frame_apply(\n\u001b[0;32m   8831\u001b[0m     \u001b[38;5;28mself\u001b[39m,\n\u001b[0;32m   8832\u001b[0m     func\u001b[38;5;241m=\u001b[39mfunc,\n\u001b[1;32m   (...)\u001b[0m\n\u001b[0;32m   8837\u001b[0m     kwargs\u001b[38;5;241m=\u001b[39mkwargs,\n\u001b[0;32m   8838\u001b[0m )\n\u001b[1;32m-> 8839\u001b[0m \u001b[38;5;28;01mreturn\u001b[39;00m \u001b[43mop\u001b[49m\u001b[38;5;241;43m.\u001b[39;49m\u001b[43mapply\u001b[49m\u001b[43m(\u001b[49m\u001b[43m)\u001b[49m\u001b[38;5;241m.\u001b[39m__finalize__(\u001b[38;5;28mself\u001b[39m, method\u001b[38;5;241m=\u001b[39m\u001b[38;5;124m\"\u001b[39m\u001b[38;5;124mapply\u001b[39m\u001b[38;5;124m\"\u001b[39m)\n",
      "File \u001b[1;32m~\\anaconda3\\lib\\site-packages\\pandas\\core\\apply.py:727\u001b[0m, in \u001b[0;36mFrameApply.apply\u001b[1;34m(self)\u001b[0m\n\u001b[0;32m    724\u001b[0m \u001b[38;5;28;01melif\u001b[39;00m \u001b[38;5;28mself\u001b[39m\u001b[38;5;241m.\u001b[39mraw:\n\u001b[0;32m    725\u001b[0m     \u001b[38;5;28;01mreturn\u001b[39;00m \u001b[38;5;28mself\u001b[39m\u001b[38;5;241m.\u001b[39mapply_raw()\n\u001b[1;32m--> 727\u001b[0m \u001b[38;5;28;01mreturn\u001b[39;00m \u001b[38;5;28;43mself\u001b[39;49m\u001b[38;5;241;43m.\u001b[39;49m\u001b[43mapply_standard\u001b[49m\u001b[43m(\u001b[49m\u001b[43m)\u001b[49m\n",
      "File \u001b[1;32m~\\anaconda3\\lib\\site-packages\\pandas\\core\\apply.py:851\u001b[0m, in \u001b[0;36mFrameApply.apply_standard\u001b[1;34m(self)\u001b[0m\n\u001b[0;32m    850\u001b[0m \u001b[38;5;28;01mdef\u001b[39;00m \u001b[38;5;21mapply_standard\u001b[39m(\u001b[38;5;28mself\u001b[39m):\n\u001b[1;32m--> 851\u001b[0m     results, res_index \u001b[38;5;241m=\u001b[39m \u001b[38;5;28;43mself\u001b[39;49m\u001b[38;5;241;43m.\u001b[39;49m\u001b[43mapply_series_generator\u001b[49m\u001b[43m(\u001b[49m\u001b[43m)\u001b[49m\n\u001b[0;32m    853\u001b[0m     \u001b[38;5;66;03m# wrap results\u001b[39;00m\n\u001b[0;32m    854\u001b[0m     \u001b[38;5;28;01mreturn\u001b[39;00m \u001b[38;5;28mself\u001b[39m\u001b[38;5;241m.\u001b[39mwrap_results(results, res_index)\n",
      "File \u001b[1;32m~\\anaconda3\\lib\\site-packages\\pandas\\core\\apply.py:867\u001b[0m, in \u001b[0;36mFrameApply.apply_series_generator\u001b[1;34m(self)\u001b[0m\n\u001b[0;32m    864\u001b[0m \u001b[38;5;28;01mwith\u001b[39;00m option_context(\u001b[38;5;124m\"\u001b[39m\u001b[38;5;124mmode.chained_assignment\u001b[39m\u001b[38;5;124m\"\u001b[39m, \u001b[38;5;28;01mNone\u001b[39;00m):\n\u001b[0;32m    865\u001b[0m     \u001b[38;5;28;01mfor\u001b[39;00m i, v \u001b[38;5;129;01min\u001b[39;00m \u001b[38;5;28menumerate\u001b[39m(series_gen):\n\u001b[0;32m    866\u001b[0m         \u001b[38;5;66;03m# ignore SettingWithCopy here in case the user mutates\u001b[39;00m\n\u001b[1;32m--> 867\u001b[0m         results[i] \u001b[38;5;241m=\u001b[39m \u001b[38;5;28;43mself\u001b[39;49m\u001b[38;5;241;43m.\u001b[39;49m\u001b[43mf\u001b[49m\u001b[43m(\u001b[49m\u001b[43mv\u001b[49m\u001b[43m)\u001b[49m\n\u001b[0;32m    868\u001b[0m         \u001b[38;5;28;01mif\u001b[39;00m \u001b[38;5;28misinstance\u001b[39m(results[i], ABCSeries):\n\u001b[0;32m    869\u001b[0m             \u001b[38;5;66;03m# If we have a view on v, we need to make a copy because\u001b[39;00m\n\u001b[0;32m    870\u001b[0m             \u001b[38;5;66;03m#  series_generator will swap out the underlying data\u001b[39;00m\n\u001b[0;32m    871\u001b[0m             results[i] \u001b[38;5;241m=\u001b[39m results[i]\u001b[38;5;241m.\u001b[39mcopy(deep\u001b[38;5;241m=\u001b[39m\u001b[38;5;28;01mFalse\u001b[39;00m)\n",
      "File \u001b[1;32m~\\1test_monkey\\pythonlib\\dataset\\dataset.py:900\u001b[0m, in \u001b[0;36mDataset._get_standard_time.<locals>.F\u001b[1;34m(x)\u001b[0m\n\u001b[0;32m    899\u001b[0m \u001b[38;5;28;01mdef\u001b[39;00m \u001b[38;5;21mF\u001b[39m(x):\n\u001b[1;32m--> 900\u001b[0m     dt \u001b[38;5;241m=\u001b[39m \u001b[43mx\u001b[49m\u001b[43m[\u001b[49m\u001b[38;5;124;43m\"\u001b[39;49m\u001b[38;5;124;43mdatetime\u001b[39;49m\u001b[38;5;124;43m\"\u001b[39;49m\u001b[43m]\u001b[49m\n\u001b[0;32m    901\u001b[0m     \u001b[38;5;28;01mreturn\u001b[39;00m standardizeTime(dt, first_date, daystart\u001b[38;5;241m=\u001b[39m\u001b[38;5;241m0.417\u001b[39m, dayend\u001b[38;5;241m=\u001b[39m\u001b[38;5;241m0.792\u001b[39m)\n",
      "File \u001b[1;32m~\\anaconda3\\lib\\site-packages\\pandas\\core\\series.py:958\u001b[0m, in \u001b[0;36mSeries.__getitem__\u001b[1;34m(self, key)\u001b[0m\n\u001b[0;32m    955\u001b[0m     \u001b[38;5;28;01mreturn\u001b[39;00m \u001b[38;5;28mself\u001b[39m\u001b[38;5;241m.\u001b[39m_values[key]\n\u001b[0;32m    957\u001b[0m \u001b[38;5;28;01melif\u001b[39;00m key_is_scalar:\n\u001b[1;32m--> 958\u001b[0m     \u001b[38;5;28;01mreturn\u001b[39;00m \u001b[38;5;28;43mself\u001b[39;49m\u001b[38;5;241;43m.\u001b[39;49m\u001b[43m_get_value\u001b[49m\u001b[43m(\u001b[49m\u001b[43mkey\u001b[49m\u001b[43m)\u001b[49m\n\u001b[0;32m    960\u001b[0m \u001b[38;5;28;01mif\u001b[39;00m is_hashable(key):\n\u001b[0;32m    961\u001b[0m     \u001b[38;5;66;03m# Otherwise index.get_value will raise InvalidIndexError\u001b[39;00m\n\u001b[0;32m    962\u001b[0m     \u001b[38;5;28;01mtry\u001b[39;00m:\n\u001b[0;32m    963\u001b[0m         \u001b[38;5;66;03m# For labels that don't resolve as scalars like tuples and frozensets\u001b[39;00m\n",
      "File \u001b[1;32m~\\anaconda3\\lib\\site-packages\\pandas\\core\\series.py:1069\u001b[0m, in \u001b[0;36mSeries._get_value\u001b[1;34m(self, label, takeable)\u001b[0m\n\u001b[0;32m   1066\u001b[0m     \u001b[38;5;28;01mreturn\u001b[39;00m \u001b[38;5;28mself\u001b[39m\u001b[38;5;241m.\u001b[39m_values[label]\n\u001b[0;32m   1068\u001b[0m \u001b[38;5;66;03m# Similar to Index.get_value, but we do not fall back to positional\u001b[39;00m\n\u001b[1;32m-> 1069\u001b[0m loc \u001b[38;5;241m=\u001b[39m \u001b[38;5;28;43mself\u001b[39;49m\u001b[38;5;241;43m.\u001b[39;49m\u001b[43mindex\u001b[49m\u001b[38;5;241;43m.\u001b[39;49m\u001b[43mget_loc\u001b[49m\u001b[43m(\u001b[49m\u001b[43mlabel\u001b[49m\u001b[43m)\u001b[49m\n\u001b[0;32m   1070\u001b[0m \u001b[38;5;28;01mreturn\u001b[39;00m \u001b[38;5;28mself\u001b[39m\u001b[38;5;241m.\u001b[39mindex\u001b[38;5;241m.\u001b[39m_get_values_for_loc(\u001b[38;5;28mself\u001b[39m, loc, label)\n",
      "File \u001b[1;32m~\\anaconda3\\lib\\site-packages\\pandas\\core\\indexes\\base.py:3623\u001b[0m, in \u001b[0;36mIndex.get_loc\u001b[1;34m(self, key, method, tolerance)\u001b[0m\n\u001b[0;32m   3621\u001b[0m     \u001b[38;5;28;01mreturn\u001b[39;00m \u001b[38;5;28mself\u001b[39m\u001b[38;5;241m.\u001b[39m_engine\u001b[38;5;241m.\u001b[39mget_loc(casted_key)\n\u001b[0;32m   3622\u001b[0m \u001b[38;5;28;01mexcept\u001b[39;00m \u001b[38;5;167;01mKeyError\u001b[39;00m \u001b[38;5;28;01mas\u001b[39;00m err:\n\u001b[1;32m-> 3623\u001b[0m     \u001b[38;5;28;01mraise\u001b[39;00m \u001b[38;5;167;01mKeyError\u001b[39;00m(key) \u001b[38;5;28;01mfrom\u001b[39;00m \u001b[38;5;21;01merr\u001b[39;00m\n\u001b[0;32m   3624\u001b[0m \u001b[38;5;28;01mexcept\u001b[39;00m \u001b[38;5;167;01mTypeError\u001b[39;00m:\n\u001b[0;32m   3625\u001b[0m     \u001b[38;5;66;03m# If we have a listlike key, _check_indexing_error will raise\u001b[39;00m\n\u001b[0;32m   3626\u001b[0m     \u001b[38;5;66;03m#  InvalidIndexError. Otherwise we fall through and re-raise\u001b[39;00m\n\u001b[0;32m   3627\u001b[0m     \u001b[38;5;66;03m#  the TypeError.\u001b[39;00m\n\u001b[0;32m   3628\u001b[0m     \u001b[38;5;28mself\u001b[39m\u001b[38;5;241m.\u001b[39m_check_indexing_error(key)\n",
      "\u001b[1;31mKeyError\u001b[0m: 'datetime'"
     ]
    }
   ],
   "source": [
    "if animal == \"Red\":\n",
    "    path_list = [\n",
    "        \"data_032921/Red-lines5-formodeling-210329_005719\",\n",
    "        \"data_032921/Red-arc2-formodeling-210329_005550\",\n",
    "        \"data_032921/Red-shapes3-formodeling-210329_005200\",\n",
    "        \"data_032921/Red-figures89-formodeling-210329_005443\"\n",
    "    ]\n",
    "elif animal==\"Pancho\":\n",
    "    path_list = [\n",
    "        \"data_032921/Pancho-lines5-formodeling-210329_014835\",\n",
    "        \"data_032921/Pancho-arc2-formodeling-210329_014648\",\n",
    "        \"data_032921/Pancho-shapes3-formodeling-210329_002448\",\n",
    "        \"data_032921/Pancho-figures89-formodeling-210329_000418\"\n",
    "    ]\n",
    "append_list = None\n",
    "\n",
    "D = Dataset(path_list, append_list)"
   ]
  },
  {
   "cell_type": "code",
   "execution_count": null,
   "id": "2d38410b",
   "metadata": {},
   "outputs": [],
   "source": [
    "# recenter tasks (so they are all similar spatial coords)\n",
    "D.recenter(method=\"each_beh_center\")\n",
    "\n",
    "# interpolate beh (to reduce number of pts)\n",
    "D.interpolateStrokes()\n",
    "\n",
    "# subsample traisl in a stratified manner to amke sure good represnetaiton\n",
    "# of all variety of tasks.\n",
    "D.subsampleTrials()\n",
    "\n",
    "# Recompute task edges (i..e, bounding box)\n",
    "D.recomputeSketchpadEdges()"
   ]
  },
  {
   "cell_type": "code",
   "execution_count": null,
   "id": "95afc4cb",
   "metadata": {},
   "outputs": [],
   "source": []
  },
  {
   "cell_type": "code",
   "execution_count": null,
   "id": "4e1f5487",
   "metadata": {},
   "outputs": [],
   "source": []
  },
  {
   "cell_type": "code",
   "execution_count": null,
   "id": "33a2b855",
   "metadata": {},
   "outputs": [],
   "source": [
    "parameters = mmpy.setRunParameters()"
   ]
  },
  {
   "cell_type": "code",
   "execution_count": null,
   "id": "b21c05f6",
   "metadata": {
    "scrolled": false
   },
   "outputs": [],
   "source": [
    "parameters"
   ]
  },
  {
   "cell_type": "code",
   "execution_count": null,
   "id": "b3f4f5fd",
   "metadata": {},
   "outputs": [],
   "source": [
    "# %%%%%%% PARAMETERS TO CHANGE %%%%%%%%%%%%%%%%%%%%%%%%%%%%%%%%%%%%%%%%%%%%%%\n",
    "# These need to be revised everytime you are working with a new dataset. #\n",
    "\n",
    "parameters.projectPath = '1test_monkey/content/trial_mmpy' #% Full path to the project directory.\n",
    "\n",
    "\n",
    "#parameters.method = 'UMAP' #% We can choose between 'TSNE' or 'UMAP'\n",
    "\n",
    "parameters.minF = 1        #% Minimum frequency for Morlet Wavelet Transform\n",
    "\n",
    "parameters.maxF = 50       #% Maximum frequency for Morlet Wavelet Transform,\n",
    "                           #% usually equal to the Nyquist frequency for your\n",
    "                           #% measurements.\n",
    "\n",
    "parameters.samplingFreq = 100    #% Sampling frequency (or FPS) of data.\n",
    "\n",
    "parameters.numPeriods = 25       #% No. of dyadically spaced frequencies to\n",
    "                                 #% calculate between minF and maxF.\n",
    "\n",
    "#parameters.pcaModes = comps_above_thresh #% Number of low-d features.\n",
    "\n",
    "parameters.numProcessors = -1     #% No. of processor to use when parallel\n",
    "                                 #% processing for wavelet calculation (if not using GPU)  \n",
    "                                 #% and for re-embedding. -1 to use all cores \n",
    "                                 #% available.\n",
    "\n",
    "parameters.useGPU = -1           #% GPU to use for wavelet calculation, \n",
    "                                 #% set to -1 if GPU not present.\n",
    "\n",
    "parameters.training_numPoints = 3000    #% Number of points in mini-trainings.\n",
    "\n",
    "\n",
    "# %%%%% NO NEED TO CHANGE THESE UNLESS MEMORY ERRORS OCCUR %%%%%%%%%%\n",
    "\n",
    "parameters.trainingSetSize = 5000  #% Total number of training set points to find. \n",
    "                                 #% Increase or decrease based on\n",
    "                                 #% available RAM. For reference, 36k is a \n",
    "                                 #% good number with 64GB RAM.\n",
    "\n",
    "parameters.embedding_batchSize = 30000  #% Lower this if you get a memory error when \n",
    "                                        #% re-embedding points on a learned map.\n",
    "\n",
    "# %%%%%%%%%%%%%%%%%%%%%%%%%%%%%%%%%%%%%%%%%%%%%%%%%%%%%%%%%%%%%%%%%%%%%%%%%%%\n"
   ]
  },
  {
   "cell_type": "code",
   "execution_count": null,
   "id": "5efef052",
   "metadata": {},
   "outputs": [],
   "source": [
    "# %%%%%%% tSNE parameters %%%%%%%%%%%%%%%%%%%%%%%%%%%%%%%%%%%%%%%%%%%%%%\n",
    "\n",
    "#% can be 'barnes_hut' or 'exact'. We'll use barnes_hut for this tutorial for speed.\n",
    "parameters.tSNE_method = 'barnes_hut' \n",
    "\n",
    "# %2^H (H is the transition entropy)\n",
    "parameters.perplexity = 32\n",
    "\n",
    "# %number of neigbors to use when re-embedding\n",
    "parameters.maxNeighbors = 200\n",
    "\n",
    "# %local neighborhood definition in training set creation\n",
    "parameters.kdNeighbors = 5\n",
    "\n",
    "# %t-SNE training set perplexity\n",
    "parameters.training_perplexity = 20\n"
   ]
  },
  {
   "cell_type": "code",
   "execution_count": null,
   "id": "1b208ac9",
   "metadata": {},
   "outputs": [],
   "source": []
  }
 ],
 "metadata": {
  "kernelspec": {
   "display_name": "Python 3 (ipykernel)",
   "language": "python",
   "name": "python3"
  },
  "language_info": {
   "codemirror_mode": {
    "name": "ipython",
    "version": 3
   },
   "file_extension": ".py",
   "mimetype": "text/x-python",
   "name": "python",
   "nbconvert_exporter": "python",
   "pygments_lexer": "ipython3",
   "version": "3.9.12"
  }
 },
 "nbformat": 4,
 "nbformat_minor": 5
}
